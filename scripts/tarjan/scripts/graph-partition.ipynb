{
 "cells": [
  {
   "cell_type": "markdown",
   "metadata": {},
   "source": [
    "实现有向图的 SCC 求解\n",
    "\n",
    "应用背景：\n",
    "\n",
    "**ATP: Directed Graph Embedding with Asymmetric Transitivity Preservation**\n",
    "\n",
    "ATP代码[地址](https://github.com/zhenv5/atp)\n",
    "\n",
    "[paperswithcode](https://paperswithcode.com/paper/atp-directed-graph-embedding-with-asymmetric)\n",
    "\n",
    "论文地址：https://arxiv.org/pdf/1811.00839v2.pdf\n",
    "\n",
    "Abstract: Directed graphs have been widely used in Community Question Answering services (CQAs) to model asymmetric relationships among different types of nodes in CQA graphs, e.g., question, answer, user....\n",
    "\n",
    "数据集 wiki-vote"
   ]
  },
  {
   "cell_type": "code",
   "execution_count": 2,
   "metadata": {},
   "outputs": [],
   "source": [
    "import os\n",
    "import pandas as pd\n",
    "import numpy as np"
   ]
  },
  {
   "cell_type": "code",
   "execution_count": 3,
   "metadata": {},
   "outputs": [
    {
     "name": "stdout",
     "output_type": "stream",
     "text": [
      "/home/yuchen/VSProjects/test/SCC/dataset\n"
     ]
    }
   ],
   "source": [
    "dataset_path = os.path.abspath('.') + r'/dataset'\n",
    "print(dataset_path)"
   ]
  },
  {
   "cell_type": "code",
   "execution_count": 4,
   "metadata": {},
   "outputs": [
    {
     "name": "stdout",
     "output_type": "stream",
     "text": [
      "   FromNodeId  ToNodeId\n",
      "0          30      1412\n",
      "1          30      3352\n",
      "2          30      5254\n",
      "3          30      5543\n",
      "4          30      7478\n",
      "5           3        28\n",
      "6           3        30\n",
      "7           3        39\n",
      "8           3        54\n",
      "9           3       108\n"
     ]
    }
   ],
   "source": [
    "raw_data = pd.read_csv(dataset_path + r'/Wiki-Vote.tsv', sep='\\t')\n",
    "print(raw_data.iloc[0:10,:])"
   ]
  },
  {
   "cell_type": "code",
   "execution_count": 16,
   "metadata": {
    "scrolled": true
   },
   "outputs": [
    {
     "name": "stdout",
     "output_type": "stream",
     "text": [
      "(103689, 2)\n",
      "[[  30 1412]\n",
      " [  30 3352]\n",
      " [  30 5254]\n",
      " [  30 5543]\n",
      " [  30 7478]\n",
      " [   3   28]\n",
      " [   3   30]\n",
      " [   3   39]\n",
      " [   3   54]\n",
      " [   3  108]]\n"
     ]
    }
   ],
   "source": [
    "data = raw_data.to_numpy()\n",
    "print(data.shape)\n",
    "print(data[:10])\n",
    "np.savetxt(dataset_path + r'/Wiki-Vote.txt', data, delimiter=' ', fmt='%d')"
   ]
  },
  {
   "cell_type": "code",
   "execution_count": 17,
   "metadata": {},
   "outputs": [
    {
     "name": "stdout",
     "output_type": "stream",
     "text": [
      "(7115,)\n",
      "[ 3  4  5  6  7  8  9 10 11 12]\n"
     ]
    }
   ],
   "source": [
    "unique_data = np.unique(data)\n",
    "print(unique_data.shape)\n",
    "np.sort(unique_data)\n",
    "index = [x for x in range(0,len(unique_data))]\n",
    "dict_node = dict(zip(unique_data, index))\n",
    "reverse_dict = dict(zip(index, unique))\n",
    "new_id = [x for x in range(0,7115)]"
   ]
  },
  {
   "cell_type": "code",
   "execution_count": 6,
   "metadata": {},
   "outputs": [
    {
     "name": "stderr",
     "output_type": "stream",
     "text": [
      "Using backend: pytorch\n"
     ]
    }
   ],
   "source": [
    "# 使用 dgl 构建图，并用 networkx 可视化\n",
    "import torch\n",
    "import dgl\n",
    "import networkx as nx\n",
    "import matplotlib.pyplot as plt\n"
   ]
  },
  {
   "cell_type": "code",
   "execution_count": 7,
   "metadata": {},
   "outputs": [
    {
     "name": "stdout",
     "output_type": "stream",
     "text": [
      "(103689,) (103689,)\n",
      "[30 30 30 30 30  3  3  3  3  3] [1412 3352 5254 5543 7478   28   30   39   54  108]\n",
      "7115\n"
     ]
    }
   ],
   "source": [
    "u = data[:,0].reshape(data.shape[0])\n",
    "v = data[:,1].reshape(data.shape[0])\n",
    "print(u.shape,v.shape)\n",
    "print(u[:10],v[:10])\n",
    "# 查看总结点数\n",
    "s = pd.unique(raw_data[['FromNodeId', 'ToNodeId']].values.ravel())\n",
    "print(len(s))"
   ]
  },
  {
   "cell_type": "code",
   "execution_count": 8,
   "metadata": {},
   "outputs": [
    {
     "name": "stdout",
     "output_type": "stream",
     "text": [
      "Graph(num_nodes=8298, num_edges=103689,\n",
      "      ndata_schemes={}\n",
      "      edata_schemes={})\n",
      "tensor([   0,    1,    2,  ..., 8295, 8296, 8297])\n",
      "(tensor([  30,   30,   30,  ..., 8150, 8150, 8274]), tensor([1412, 3352, 5254,  ..., 8275, 8276, 8275]))\n",
      "['_N']\n"
     ]
    }
   ],
   "source": [
    "# 此处求解\n",
    "g = dgl.graph((u, v))\n",
    "print(g)\n",
    "print(g.nodes())\n",
    "print(g.edges())\n",
    "print(g.ntypes)"
   ]
  },
  {
   "cell_type": "code",
   "execution_count": 9,
   "metadata": {},
   "outputs": [],
   "source": [
    "# nx.draw(g.to_networkx(), with_labels=False)\n",
    "# plt.savefig('wiki-vote')"
   ]
  },
  {
   "cell_type": "code",
   "execution_count": 10,
   "metadata": {},
   "outputs": [
    {
     "name": "stdout",
     "output_type": "stream",
     "text": [
      "(103689, 2)\n"
     ]
    }
   ],
   "source": [
    "def create_adjmat(data):\n",
    "    M = np.zeros((8298,8298)) # 这个数据集未经过处理有8298点，实际只有7115点\n",
    "    print(data.shape)\n",
    "    for u,v in zip(data[:,0],data[:,1]):\n",
    "        M[u][v] = 1\n",
    "    np.savetxt(dataset_path + r'/Wiki-Vote.txt', M, delimiter=' ')\n",
    "\n",
    "        \n",
    "df = pd.read_csv(dataset_path + r'/Wiki-Vote.tsv', sep='\\t')\n",
    "df = df.to_numpy()\n",
    "create_adjmat(df)"
   ]
  },
  {
   "cell_type": "code",
   "execution_count": null,
   "metadata": {},
   "outputs": [],
   "source": [
    "# 转化为邻接矩阵, 使用tarjan来实现强连通分量的求解\n",
    "# 首先转化label encode之后的图\n",
    "\n"
   ]
  },
  {
   "cell_type": "code",
   "execution_count": null,
   "metadata": {},
   "outputs": [],
   "source": []
  },
  {
   "cell_type": "code",
   "execution_count": null,
   "metadata": {},
   "outputs": [],
   "source": []
  },
  {
   "cell_type": "code",
   "execution_count": null,
   "metadata": {},
   "outputs": [],
   "source": []
  },
  {
   "cell_type": "code",
   "execution_count": null,
   "metadata": {},
   "outputs": [],
   "source": []
  }
 ],
 "metadata": {
  "kernelspec": {
   "display_name": "Python [conda env:.conda-pytorchenv]",
   "language": "python",
   "name": "conda-env-.conda-pytorchenv-py"
  },
  "language_info": {
   "codemirror_mode": {
    "name": "ipython",
    "version": 3
   },
   "file_extension": ".py",
   "mimetype": "text/x-python",
   "name": "python",
   "nbconvert_exporter": "python",
   "pygments_lexer": "ipython3",
   "version": "3.6.12"
  }
 },
 "nbformat": 4,
 "nbformat_minor": 4
}
