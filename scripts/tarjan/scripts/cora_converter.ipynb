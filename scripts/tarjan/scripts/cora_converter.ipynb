{
 "cells": [
  {
   "cell_type": "code",
   "execution_count": 14,
   "metadata": {},
   "outputs": [],
   "source": [
    "import os\n",
    "import numpy as np\n",
    "import pandas as pd\n",
    "from IPython.core.interactiveshell import InteractiveShell\n",
    "InteractiveShell.ast_node_interactivity = \"all\""
   ]
  },
  {
   "cell_type": "code",
   "execution_count": 16,
   "metadata": {},
   "outputs": [],
   "source": [
    "basedir = os.path.abspath('.') + r'/dataset/cora/'\n",
    "cites_path = basedir + 'cora.cites'\n",
    "content_path = basedir + 'cora.content'"
   ]
  },
  {
   "cell_type": "code",
   "execution_count": 17,
   "metadata": {},
   "outputs": [
    {
     "name": "stdout",
     "output_type": "stream",
     "text": [
      "(5429, 2)\n",
      "(2708, 1435)\n"
     ]
    }
   ],
   "source": [
    "raw_cites = pd.read_csv(cites_path, sep = '\\t', header = None)\n",
    "raw_content = pd.read_csv(content_path, sep = '\\t', header = None)\n",
    "data_cites = raw_cites.to_numpy()\n",
    "print(data_cites.shape)\n",
    "data_content = raw_content.to_numpy()\n",
    "print(data_content.shape)\n"
   ]
  },
  {
   "cell_type": "code",
   "execution_count": 34,
   "metadata": {
    "scrolled": true
   },
   "outputs": [
    {
     "data": {
      "text/plain": [
       "array([     35,      40,     114, ..., 1154524, 1154525, 1155073])"
      ]
     },
     "execution_count": 34,
     "metadata": {},
     "output_type": "execute_result"
    },
    {
     "data": {
      "text/plain": [
       "(2708,)"
      ]
     },
     "execution_count": 34,
     "metadata": {},
     "output_type": "execute_result"
    },
    {
     "data": {
      "text/plain": [
       "array([     35,      40,     114, ..., 1154524, 1154525, 1155073])"
      ]
     },
     "execution_count": 34,
     "metadata": {},
     "output_type": "execute_result"
    },
    {
     "data": {
      "text/plain": [
       "array([[     35,    1033],\n",
       "       [     35,  103482],\n",
       "       [     35,  103515],\n",
       "       ...,\n",
       "       [ 853118, 1140289],\n",
       "       [ 853155,  853118],\n",
       "       [ 954315, 1155073]])"
      ]
     },
     "execution_count": 34,
     "metadata": {},
     "output_type": "execute_result"
    },
    {
     "data": {
      "text/plain": [
       "array([[   0,   21],\n",
       "       [   0,  905],\n",
       "       [   0,  906],\n",
       "       ...,\n",
       "       [1874, 2586],\n",
       "       [1876, 1874],\n",
       "       [1897, 2707]])"
      ]
     },
     "execution_count": 34,
     "metadata": {},
     "output_type": "execute_result"
    }
   ],
   "source": [
    "unique = np.unique(data_cites)\n",
    "np.sort(unique)\n",
    "unique.shape\n",
    "col = raw_content[0].to_numpy()\n",
    "uniq = np.unique(col)\n",
    "np.sort(uniq)\n",
    "index = [x for x in range(0,unique.shape[0])]\n",
    "dict_cite = dict(zip(unique,index))\n",
    "reverse_dict = dict(zip(index,unique))\n",
    "cites = data_cites.copy()\n",
    "cites\n",
    "content = data_content.copy()\n",
    "for i in range(0,cites.shape[0]):\n",
    "    cites[i][0] = dict_cite[cites[i][0]]\n",
    "    cites[i][1] = dict_cite[cites[i][1]]\n",
    "cites\n",
    "np.savetxt(basedir + 'cora.txt', X=cites, delimiter = ' ', fmt= '%d')\n",
    "# 恢复\n",
    "# for i in range(0,cites.shape[0]):\n",
    "#     cites[i][0] = reverse_dict[cites[i][0]]\n",
    "#     cites[i][1] = reverse_dict[cites[i][1]]\n",
    "# cites\n",
    "# data_cites\n",
    "# cites == data_cites"
   ]
  },
  {
   "cell_type": "code",
   "execution_count": null,
   "metadata": {},
   "outputs": [],
   "source": []
  },
  {
   "cell_type": "code",
   "execution_count": null,
   "metadata": {},
   "outputs": [],
   "source": []
  },
  {
   "cell_type": "code",
   "execution_count": null,
   "metadata": {},
   "outputs": [],
   "source": []
  }
 ],
 "metadata": {
  "kernelspec": {
   "display_name": "Python [conda env:.conda-pytorchenv]",
   "language": "python",
   "name": "conda-env-.conda-pytorchenv-py"
  },
  "language_info": {
   "codemirror_mode": {
    "name": "ipython",
    "version": 3
   },
   "file_extension": ".py",
   "mimetype": "text/x-python",
   "name": "python",
   "nbconvert_exporter": "python",
   "pygments_lexer": "ipython3",
   "version": "3.6.12"
  }
 },
 "nbformat": 4,
 "nbformat_minor": 2
}
